{
 "cells": [
  {
   "cell_type": "markdown",
   "metadata": {},
   "source": [
    "# Administrator Role\n"
   ]
  },
  {
   "cell_type": "markdown",
   "metadata": {},
   "source": [
    "### displaying data"
   ]
  },
  {
   "cell_type": "code",
   "execution_count": 1,
   "metadata": {},
   "outputs": [],
   "source": [
    "def display():\n",
    "    f=open('data_store.json','r')\n",
    "    r=f.read()\n",
    "    f.close()\n",
    "    record=json.loads(r)\n",
    "    for i in record:\n",
    "        print(i,':',record[i])\n"
   ]
  },
  {
   "cell_type": "markdown",
   "metadata": {},
   "source": [
    "### appending items"
   ]
  },
  {
   "cell_type": "code",
   "execution_count": 2,
   "metadata": {},
   "outputs": [],
   "source": [
    "def append():\n",
    "    f=open('data_store.json','r')\n",
    "    r=f.read()\n",
    "    f.close()\n",
    "    record=json.loads(r)\n",
    "    print('******************************* \\n')\n",
    "    t=int(input('Enter number of products you want to enter : '))\n",
    "    for i in range(t):\n",
    "        prod_id=input('Enter product ID : ')\n",
    "        name=input('Enter name : ')\n",
    "        price=int(input('Enter price : '))\n",
    "        quantity=int(input('Enter quantity : '))\n",
    "        serial=input('Enter serial number : ')\n",
    "        if prod_id in record:\n",
    "            print('The product already exists in the list')\n",
    "            quantity+=record[prod_id]['Quantity']\n",
    "        record[prod_id]={'Name':name,'Price':price,'Quantity':quantity,'Serial no.':serial}\n",
    "        js=json.dumps(record)\n",
    "        f=open('data_store.json','w')\n",
    "        f.write(js)\n",
    "        f.close()\n",
    "        print('**************** \\n')\n",
    "    print('******************************* \\n')"
   ]
  },
  {
   "cell_type": "markdown",
   "metadata": {},
   "source": [
    "### main() function"
   ]
  },
  {
   "cell_type": "code",
   "execution_count": 3,
   "metadata": {},
   "outputs": [
    {
     "name": "stdout",
     "output_type": "stream",
     "text": [
      "Welcome Administrator \n",
      "Roles you can access \n",
      "  1.Insert items in list\n",
      "  2.View items in list\n",
      "Enter your choice : 1\n",
      "******************************* \n",
      "\n",
      "Enter number of products you want to enter : 5\n",
      "Enter product ID : 27\n",
      "Enter name : Pencil Boc\n",
      "Enter price : 40\n",
      "Enter quantity : 15\n",
      "Enter serial number : Y00027\n",
      "**************** \n",
      "\n",
      "Enter product ID : 28\n",
      "Enter name : Shirts\n",
      "Enter price : 251\n",
      "Enter quantity : 60\n",
      "Enter serial number : Y00028\n",
      "**************** \n",
      "\n",
      "Enter product ID : 29\n",
      "Enter name : Tshirts\n",
      "Enter price : 150\n",
      "Enter quantity : 10\n",
      "Enter serial number : Y00029\n",
      "**************** \n",
      "\n",
      "Enter product ID : 30\n",
      "Enter name : Books\n",
      "Enter price : 89\n",
      "Enter quantity : 56\n",
      "Enter serial number : Y00030\n",
      "**************** \n",
      "\n",
      "Enter product ID : 31\n",
      "Enter name : Novels\n",
      "Enter price : 59\n",
      "Enter quantity : 156\n",
      "Enter serial number : Y00031\n",
      "**************** \n",
      "\n",
      "******************************* \n",
      "\n",
      "\n",
      " Enter 0 to quit else enter your choice to continue\n",
      "Enter your choice : 2\n",
      "1 : {'Name': 'Choco Cake', 'Quantity': 34, 'Price': 100, 'Serial no.': 'Y00001'}\n",
      "2 : {'Name': 'Milk Cake', 'Price': 800, 'Quantity': 100, 'Serial no.': 'Y00002'}\n",
      "3 : {'Name': 'Drink', 'Price': 85, 'Quantity': 100, 'Serial no.': 'Y00003'}\n",
      "4 : {'Name': 'Candy', 'Price': 5, 'Quantity': 1000, 'Serial no.': 'Y00004'}\n",
      "5 : {'Name': 'Pen', 'Price': 20, 'Quantity': 100, 'Serial no.': 'Y00005'}\n",
      "6 : {'Name': 'Phone', 'Price': 50000, 'Quantity': 10, 'Serial no.': 'Y00006'}\n",
      "7 : {'Name': 'Mic', 'Price': 1500, 'Quantity': 0, 'Serial no.': 'Y00007'}\n",
      "8 : {'Name': 'Case', 'Price': 599, 'Quantity': 5, 'Serial no.': 'Y00008'}\n",
      "9 : {'Name': 'Keyboard', 'Price': 1999, 'Quantity': 10, 'Serial no.': 'Y00009'}\n",
      "10 : {'Name': 'Ice cream', 'Price': 35, 'Quantity': 600, 'Serial no.': 'Y00010'}\n",
      "11 : {'Name': 'Pencil', 'Price': 5, 'Quantity': 1000, 'Serial no.': 'Y00011'}\n",
      "12 : {'Name': 'Eraser', 'Price': 10, 'Quantity': 50, 'Serial no.': 'Y00012'}\n",
      "13 : {'Name': 'Sharpner', 'Price': 10, 'Quantity': 800, 'Serial no.': 'Y00013'}\n",
      "14 : {'Name': 'Scale', 'Price': 30, 'Quantity': 400, 'Serial no.': 'Y00014'}\n",
      "15 : {'Name': 'Butterscotch Cake', 'Price': 300, 'Quantity': 150, 'Serial no.': 'Y00015'}\n",
      "16 : {'Name': 'Tissue', 'Price': 15, 'Quantity': 650, 'Serial no.': 'Y00016'}\n",
      "17 : {'Name': 'Maps', 'Price': 110, 'Quantity': 60, 'Serial no.': 'Y00017'}\n",
      "18 : {'Name': 'Toothbrush', 'Price': 55, 'Quantity': 160, 'Serial no.': 'Y00018'}\n",
      "19 : {'Name': 'Toothpaste', 'Price': 116, 'Quantity': 40, 'Serial no.': 'Y00019'}\n",
      "20 : {'Name': 'Juice', 'Price': 60, 'Quantity': 51, 'Serial no.': 'Y00020'}\n",
      "21 : {'Name': 'Snacks', 'Price': 25, 'Quantity': 200, 'Serial no.': 'Y00021'}\n",
      "22 : {'Name': 'Chips', 'Price': 5, 'Quantity': 100, 'Serial no.': 'Y00022'}\n",
      "23 : {'Name': 'Pie', 'Price': 60, 'Quantity': 22, 'Serial no.': 'Y00023'}\n",
      "24 : {'Name': 'Paints', 'Price': 125, 'Quantity': 60, 'Serial no.': 'Y00024'}\n",
      "25 : {'Name': 'Laptop', 'Price': 12500, 'Quantity': 26, 'Serial no.': 'Y00025'}\n",
      "26 : {'Name': 'LED Bulb', 'Price': 45, 'Quantity': 450, 'Serial no.': 'Y00026'}\n",
      "27 : {'Name': 'Pencil Boc', 'Price': 40, 'Quantity': 15, 'Serial no.': 'Y00027'}\n",
      "28 : {'Name': 'Shirts', 'Price': 251, 'Quantity': 60, 'Serial no.': 'Y00028'}\n",
      "29 : {'Name': 'Tshirts', 'Price': 150, 'Quantity': 10, 'Serial no.': 'Y00029'}\n",
      "30 : {'Name': 'Books', 'Price': 89, 'Quantity': 56, 'Serial no.': 'Y00030'}\n",
      "31 : {'Name': 'Novels', 'Price': 59, 'Quantity': 156, 'Serial no.': 'Y00031'}\n",
      "\n",
      " Enter 0 to quit else enter your choice to continue\n",
      "Enter your choice : 0\n",
      "****************** \n",
      "The program terminates \n",
      "Thank you.\n",
      "******************\n"
     ]
    }
   ],
   "source": [
    "import json\n",
    "print('Welcome Administrator \\nRoles you can access \\n  1.Insert items in list\\n  2.View items in list')\n",
    "while True:\n",
    "    choice=int(input('Enter your choice : '))\n",
    "    if choice==0:  \n",
    "        print('****************** \\nThe program terminates \\nThank you.\\n******************')\n",
    "        break\n",
    "    if choice!=1 and choice!=0 and choice!=2:\n",
    "        print('Wrong choice entered')\n",
    "    elif choice==1:\n",
    "        append()\n",
    "    elif choice==2:\n",
    "        display() \n",
    "    print(\"\\n Enter 0 to quit else enter your choice to continue\")\n",
    "    if choice==0:  \n",
    "        print('****************** \\nThe program terminates \\nThank you.\\n******************')\n",
    "        break\n",
    "    \n",
    "\n"
   ]
  },
  {
   "cell_type": "code",
   "execution_count": null,
   "metadata": {},
   "outputs": [],
   "source": []
  }
 ],
 "metadata": {
  "kernelspec": {
   "display_name": "Python 3",
   "language": "python",
   "name": "python3"
  },
  "language_info": {
   "codemirror_mode": {
    "name": "ipython",
    "version": 3
   },
   "file_extension": ".py",
   "mimetype": "text/x-python",
   "name": "python",
   "nbconvert_exporter": "python",
   "pygments_lexer": "ipython3",
   "version": "3.8.5"
  }
 },
 "nbformat": 4,
 "nbformat_minor": 4
}
