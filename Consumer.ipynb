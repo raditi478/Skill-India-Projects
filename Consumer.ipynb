{
 "cells": [
  {
   "cell_type": "markdown",
   "metadata": {},
   "source": [
    "# Code for consumer"
   ]
  },
  {
   "cell_type": "markdown",
   "metadata": {},
   "source": [
    "\n",
    "## Reading the inventory"
   ]
  },
  {
   "cell_type": "code",
   "execution_count": 7,
   "metadata": {},
   "outputs": [],
   "source": [
    "import json\n",
    "f=open('data_store.json')\n",
    "r=f.read()\n",
    "record=json.loads(r)\n",
    "f.close()"
   ]
  },
  {
   "cell_type": "markdown",
   "metadata": {},
   "source": [
    "## Purchase"
   ]
  },
  {
   "cell_type": "code",
   "execution_count": 12,
   "metadata": {},
   "outputs": [
    {
     "name": "stdout",
     "output_type": "stream",
     "text": [
      "Enter number of types of products you want to purchase2\n",
      "Enter product ID : 11\n",
      "Enter product quantity : 2\n",
      "\n",
      "-----Bill-----\n",
      "Name :  Pencil\n",
      "Price :  5\n",
      "Serial number :  Y00011\n",
      "Billing Amount :  10\n",
      "Enter product ID : 31\n",
      "Enter product quantity : 1\n",
      "\n",
      "-----Bill-----\n",
      "Name :  Novels\n",
      "Price :  59\n",
      "Serial number :  Y00031\n",
      "Billing Amount :  59\n",
      "Total Amount to be paid :  69\n"
     ]
    }
   ],
   "source": [
    "sale={}\n",
    "c=0\n",
    "t=int(input('Enter number of types of products you want to purchase'))\n",
    "for i in range(t):\n",
    "    \n",
    "    prod_id=input('Enter product ID : ')\n",
    "    prod_quant=int(input('Enter product quantity : '))\n",
    "    if prod_quant>record[prod_id]['Quantity']:\n",
    "        print('Sorry,the demanded amount is not available')\n",
    "        print('You have purchased',record[prod_id]['Quantity'],'items')\n",
    "        product_quant=record[prod_id]['Quantity']\n",
    "    print(\"\\n-----Bill-----\")\n",
    "    print(\"Name : \",record[prod_id]['Name'])\n",
    "    print(\"Price : \",record[prod_id]['Price'])\n",
    "    print(\"Serial number : \",record[prod_id]['Serial no.'])\n",
    "    bill=record[prod_id]['Price']*prod_quant\n",
    "    print(\"Billing Amount : \",bill)\n",
    "    c+=bill\n",
    "    record[prod_id]['Quantity']-=prod_quant\n",
    "    sale[prod_id]={'Name':record[prod_id]['Name'],'Price':record[prod_id]['Price'],'Quantity':record[prod_id]['Quantity'],'Amount':bill,'Serial no.':record[prod_id]['Serial no.']}\n",
    "print('Total Amount to be paid : ',c)"
   ]
  },
  {
   "cell_type": "markdown",
   "metadata": {},
   "source": [
    "### Updating the inventory"
   ]
  },
  {
   "cell_type": "code",
   "execution_count": 13,
   "metadata": {},
   "outputs": [],
   "source": [
    "js = json.dumps(sale)\n",
    "f=open('data_store.json','w')\n",
    "f.write(js)\n",
    "f.close()"
   ]
  },
  {
   "cell_type": "markdown",
   "metadata": {},
   "source": [
    "### Managing sales data"
   ]
  },
  {
   "cell_type": "code",
   "execution_count": 14,
   "metadata": {},
   "outputs": [],
   "source": [
    "js = json.dumps(sale)\n",
    "f=open('sales.json','w')\n",
    "f.write(js)\n",
    "f.close()"
   ]
  }
 ],
 "metadata": {
  "kernelspec": {
   "display_name": "Python 3",
   "language": "python",
   "name": "python3"
  }
 },
 "nbformat": 4,
 "nbformat_minor": 4
}
